{
 "cells": [
  {
   "cell_type": "markdown",
   "metadata": {},
   "source": [
    "# Casual Inference"
   ]
  },
  {
   "cell_type": "markdown",
   "metadata": {},
   "source": [
    "## Contolled Regression"
   ]
  },
  {
   "cell_type": "markdown",
   "metadata": {},
   "source": [
    "1. Univariate Regression </br>\n",
    "    y ~ X\n",
    "2. Multiple regression </br>\n",
    "    y ~ X + (Control set)\n",
    "\n",
    "If R-square on (2) is close to 100% and coefficient on X is similar in the two models then by the theory of controlled regression, we can use it as the causal impact"
   ]
  },
  {
   "cell_type": "markdown",
   "metadata": {},
   "source": [
    "### Source of Error"
   ]
  },
  {
   "cell_type": "markdown",
   "metadata": {},
   "source": [
    "* Omitted variable bias </br>\n",
    "    R-squared ~ 100% for y ~ (Control Set)\n",
    "* Included variable bias"
   ]
  },
  {
   "cell_type": "markdown",
   "metadata": {},
   "source": [
    "## Regression discontinuity"
   ]
  },
  {
   "cell_type": "markdown",
   "metadata": {},
   "source": [
    "* Can we run AB test? No\n",
    "* Can we run controlled regression? No\n",
    "* What about a natural experiment? Yes\n",
    "\n",
    "Estimated casual impact = b<sub>2</sub> + b<sub>3</sub>X </br>\n",
    "![Regression discontinuity graph](./Regression%20discontinuity.png)"
   ]
  },
  {
   "cell_type": "markdown",
   "metadata": {},
   "source": [
    "### Asumptions\n",
    "1. Smaple similar above and bellow cutoff\n",
    "2. No confounding discontinuities - Run placebo tests"
   ]
  },
  {
   "cell_type": "markdown",
   "metadata": {},
   "source": [
    "## Difference in Difference"
   ]
  },
  {
   "cell_type": "markdown",
   "metadata": {},
   "source": [
    "* Can we run an AB test? No\n",
    "* What about a quasi-experiment?\n",
    "\n",
    "Estimated casual impact = b<sub>3</sub>\n",
    "![Difference in difference](./Difference%20in%20Difference.png)"
   ]
  },
  {
   "cell_type": "markdown",
   "metadata": {},
   "source": [
    "### Asumptions\n",
    "1. Parallel trends"
   ]
  },
  {
   "cell_type": "markdown",
   "metadata": {},
   "source": [
    "### Extensions\n",
    "1. Synthetic control\n",
    "2. Bayesian Approach"
   ]
  },
  {
   "cell_type": "markdown",
   "metadata": {},
   "source": [
    "## Instrumental variables"
   ]
  },
  {
   "cell_type": "markdown",
   "metadata": {},
   "source": [
    "* Can we run an AB test? No\n",
    "* Can we do controlled regression? No\n",
    "* What about a natural experiment? Yes"
   ]
  },
  {
   "cell_type": "markdown",
   "metadata": {},
   "source": [
    "#### Instrumental Variables\n",
    "![](Instumental%20Variables.png)"
   ]
  },
  {
   "cell_type": "markdown",
   "metadata": {},
   "source": [
    "Y ~ X (Unbiased) </br>\n",
    "\n",
    "* Two stage method:\n",
    "1. X ~ Z\n",
    "2. Y ~ X_predicted"
   ]
  },
  {
   "cell_type": "markdown",
   "metadata": {},
   "source": [
    "#### Assumptions\n",
    "1. Strong first stage\n",
    "2. Exclusion Restriction"
   ]
  },
  {
   "cell_type": "markdown",
   "metadata": {},
   "source": [
    "## ML + Causal Inference"
   ]
  },
  {
   "cell_type": "markdown",
   "metadata": {},
   "source": [
    "Weaknesses of classic causal approaches:\n",
    "- Fail with many covariates\n",
    "- Model selection unprincipled\n",
    "- Generally assumes linear relationships and no interactions\n",
    "\n",
    "Benefits of ML:\n",
    "+ Can handle high dimensionality\n",
    "+ Principled ways to choose model\n",
    "+ Many nonlinear models that implicitly use higher order features"
   ]
  },
  {
   "cell_type": "markdown",
   "metadata": {},
   "source": [
    "### Double selection"
   ]
  },
  {
   "cell_type": "markdown",
   "metadata": {},
   "source": [
    "### Causal trees"
   ]
  }
 ],
 "metadata": {
  "language_info": {
   "name": "python"
  },
  "orig_nbformat": 4
 },
 "nbformat": 4,
 "nbformat_minor": 2
}
